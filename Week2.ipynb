{
  "nbformat": 4,
  "nbformat_minor": 0,
  "metadata": {
    "colab": {
      "provenance": [],
      "authorship_tag": "ABX9TyO2F/4i5Mp1dBRF9aqfSqP+",
      "include_colab_link": true
    },
    "kernelspec": {
      "name": "python3",
      "display_name": "Python 3"
    },
    "language_info": {
      "name": "python"
    }
  },
  "cells": [
    {
      "cell_type": "markdown",
      "metadata": {
        "id": "view-in-github",
        "colab_type": "text"
      },
      "source": [
        "<a href=\"https://colab.research.google.com/github/Lakshman3556/Machine_Learning/blob/main/Week2.ipynb\" target=\"_parent\"><img src=\"https://colab.research.google.com/assets/colab-badge.svg\" alt=\"Open In Colab\"/></a>"
      ]
    },
    {
      "cell_type": "code",
      "execution_count": 3,
      "metadata": {
        "colab": {
          "base_uri": "https://localhost:8080/"
        },
        "id": "krYRk4xJBZmi",
        "outputId": "9258aa0b-21f7-476a-95b8-5b7f35695276"
      },
      "outputs": [
        {
          "output_type": "stream",
          "name": "stdout",
          "text": [
            "  Item   Company  Rupees  USD\n",
            "0   TV        LG   12000  700\n",
            "1   TV  VIDEOCON   10000  650\n",
            "2   TV        LG   15000  800\n",
            "3   AC      SONY   14000  750\n"
          ]
        }
      ],
      "source": [
        "import pandas as pd\n",
        "\n",
        "data = {\n",
        "    'Item': ['TV', 'TV', 'TV', 'AC'],\n",
        "    'Company': ['LG', 'VIDEOCON', 'LG', 'SONY'],\n",
        "    'Rupees': [12000, 10000, 15000, 14000],\n",
        "    'USD': [700, 650, 800, 750]\n",
        "}\n",
        "\n",
        "df = pd.DataFrame(data)\n",
        "print(df)\n"
      ]
    },
    {
      "cell_type": "code",
      "source": [
        "df.loc[len(df)]=['AC','LG',4500,500]"
      ],
      "metadata": {
        "id": "byDK7GTrBwQA"
      },
      "execution_count": 5,
      "outputs": []
    },
    {
      "cell_type": "code",
      "source": [
        "lg_tv = df[(df['Item'] == 'TV') & (df['Company'] == 'LG')]\n",
        "print(\"Maximum price of LG TV:\", lg_tv['Rupees'].max())\n"
      ],
      "metadata": {
        "colab": {
          "base_uri": "https://localhost:8080/"
        },
        "id": "a0KmnAqaC4pD",
        "outputId": "e26af385-3e15-4a93-ee53-8661dd7f3d9d"
      },
      "execution_count": 6,
      "outputs": [
        {
          "output_type": "stream",
          "name": "stdout",
          "text": [
            "Maximum price of LG TV: 15000\n"
          ]
        }
      ]
    },
    {
      "cell_type": "code",
      "source": [
        "print( df['Rupees'].sum())\n"
      ],
      "metadata": {
        "colab": {
          "base_uri": "https://localhost:8080/"
        },
        "id": "6SmE3005DRk7",
        "outputId": "2a880a9c-1022-4f5d-a792-1d44a00ad322"
      },
      "execution_count": 7,
      "outputs": [
        {
          "output_type": "stream",
          "name": "stdout",
          "text": [
            "55500\n"
          ]
        }
      ]
    },
    {
      "cell_type": "code",
      "source": [
        "sony = df[df['Company'] == 'SONY']\n",
        "print( sony['USD'].median())\n"
      ],
      "metadata": {
        "colab": {
          "base_uri": "https://localhost:8080/"
        },
        "id": "ikCanYgsDYrQ",
        "outputId": "fe70fcc0-95ca-4f39-ef67-e5204eac5cb7"
      },
      "execution_count": 8,
      "outputs": [
        {
          "output_type": "stream",
          "name": "stdout",
          "text": [
            "750.0\n"
          ]
        }
      ]
    },
    {
      "cell_type": "code",
      "source": [
        "sorted_df = df.sort_values(by='Rupees')\n",
        "print(sorted_df)\n"
      ],
      "metadata": {
        "colab": {
          "base_uri": "https://localhost:8080/"
        },
        "id": "7h2n7tl2DbEZ",
        "outputId": "2d0c96ba-c644-4aa9-fb16-017a94de0ce4"
      },
      "execution_count": 9,
      "outputs": [
        {
          "output_type": "stream",
          "name": "stdout",
          "text": [
            "  Item   Company  Rupees  USD\n",
            "4   AC        LG    4500  500\n",
            "1   TV  VIDEOCON   10000  650\n",
            "0   TV        LG   12000  700\n",
            "3   AC      SONY   14000  750\n",
            "2   TV        LG   15000  800\n"
          ]
        }
      ]
    },
    {
      "cell_type": "code",
      "source": [
        "data2 = {\n",
        "    'Name': ['Aparna', 'Pankaj', 'Ram', 'Ramesh', 'Naveen', 'Krrishnav', 'Bhawna'],\n",
        "    'Degree': ['MBA', 'BCA', 'M.Tech', 'MBA', 'MBA', 'BCA', 'MBA'],\n",
        "    'Score': [90, None, 80, 98, 97, 78, 89]\n",
        "}\n",
        "\n",
        "df2 = pd.DataFrame(data2)\n",
        "print(df2)"
      ],
      "metadata": {
        "colab": {
          "base_uri": "https://localhost:8080/"
        },
        "id": "CF4YKmLiDd7f",
        "outputId": "13086be1-e5b7-46e1-daf5-d0bf1cc00101"
      },
      "execution_count": 10,
      "outputs": [
        {
          "output_type": "stream",
          "name": "stdout",
          "text": [
            "        Name  Degree  Score\n",
            "0     Aparna     MBA   90.0\n",
            "1     Pankaj     BCA    NaN\n",
            "2        Ram  M.Tech   80.0\n",
            "3     Ramesh     MBA   98.0\n",
            "4     Naveen     MBA   97.0\n",
            "5  Krrishnav     BCA   78.0\n",
            "6     Bhawna     MBA   89.0\n"
          ]
        }
      ]
    },
    {
      "cell_type": "code",
      "source": [
        "print(df2.groupby('Degree')['Score'].max())"
      ],
      "metadata": {
        "colab": {
          "base_uri": "https://localhost:8080/"
        },
        "id": "90zAymJpDg-f",
        "outputId": "e5fa3d26-a0b9-428a-aebb-428336ba6db9"
      },
      "execution_count": 11,
      "outputs": [
        {
          "output_type": "stream",
          "name": "stdout",
          "text": [
            "Degree\n",
            "BCA       78.0\n",
            "M.Tech    80.0\n",
            "MBA       98.0\n",
            "Name: Score, dtype: float64\n"
          ]
        }
      ]
    },
    {
      "cell_type": "code",
      "source": [
        "df2['Score'] = df2['Score'].fillna(76)\n",
        "print(df2)"
      ],
      "metadata": {
        "colab": {
          "base_uri": "https://localhost:8080/"
        },
        "id": "ylUdPfvZDnqM",
        "outputId": "96c58b9a-b0a2-43ff-8428-5cd66620bd3c"
      },
      "execution_count": 12,
      "outputs": [
        {
          "output_type": "stream",
          "name": "stdout",
          "text": [
            "        Name  Degree  Score\n",
            "0     Aparna     MBA   90.0\n",
            "1     Pankaj     BCA   76.0\n",
            "2        Ram  M.Tech   80.0\n",
            "3     Ramesh     MBA   98.0\n",
            "4     Naveen     MBA   97.0\n",
            "5  Krrishnav     BCA   78.0\n",
            "6     Bhawna     MBA   89.0\n"
          ]
        }
      ]
    },
    {
      "cell_type": "code",
      "source": [
        "df2 = df2.set_index('Name')\n",
        "print(df2)"
      ],
      "metadata": {
        "colab": {
          "base_uri": "https://localhost:8080/"
        },
        "id": "aIR0F8-mDqrx",
        "outputId": "1ddb6f29-5551-4ce8-b531-7d1e5a6801e5"
      },
      "execution_count": 13,
      "outputs": [
        {
          "output_type": "stream",
          "name": "stdout",
          "text": [
            "           Degree  Score\n",
            "Name                    \n",
            "Aparna        MBA   90.0\n",
            "Pankaj        BCA   76.0\n",
            "Ram        M.Tech   80.0\n",
            "Ramesh        MBA   98.0\n",
            "Naveen        MBA   97.0\n",
            "Krrishnav     BCA   78.0\n",
            "Bhawna        MBA   89.0\n"
          ]
        }
      ]
    },
    {
      "cell_type": "code",
      "source": [
        "print(df2.groupby('Degree')['Score'].mean())\n"
      ],
      "metadata": {
        "colab": {
          "base_uri": "https://localhost:8080/"
        },
        "id": "U9LtNOWjDtwN",
        "outputId": "80fb6167-e090-4659-c280-1344eb9f7971"
      },
      "execution_count": 14,
      "outputs": [
        {
          "output_type": "stream",
          "name": "stdout",
          "text": [
            "Degree\n",
            "BCA       77.0\n",
            "M.Tech    80.0\n",
            "MBA       93.5\n",
            "Name: Score, dtype: float64\n"
          ]
        }
      ]
    },
    {
      "cell_type": "code",
      "source": [
        "print( (df2['Degree'] == 'MBA').sum())\n"
      ],
      "metadata": {
        "colab": {
          "base_uri": "https://localhost:8080/"
        },
        "id": "MGUD28j1Dwyn",
        "outputId": "c65337f4-b192-4376-8987-911ebeb74e30"
      },
      "execution_count": 16,
      "outputs": [
        {
          "output_type": "stream",
          "name": "stdout",
          "text": [
            "4\n"
          ]
        }
      ]
    },
    {
      "cell_type": "code",
      "source": [
        "bca_scores = df2[df2['Degree'] == 'BCA']['Score']\n",
        "print( bca_scores.mode()[0])\n"
      ],
      "metadata": {
        "colab": {
          "base_uri": "https://localhost:8080/"
        },
        "id": "nXlOqb6tD4lU",
        "outputId": "46b137af-14b9-4361-c50b-b274dceb8cd5"
      },
      "execution_count": 17,
      "outputs": [
        {
          "output_type": "stream",
          "name": "stdout",
          "text": [
            "76.0\n"
          ]
        }
      ]
    }
  ]
}