{
  "nbformat": 4,
  "nbformat_minor": 0,
  "metadata": {
    "colab": {
      "provenance": [],
      "mount_file_id": "1znxuv7RR-FOWl2WjcqS0XyB6v7ALiaAG",
      "authorship_tag": "ABX9TyPfglB8HMEbyse+VBueRQQP",
      "include_colab_link": true
    },
    "kernelspec": {
      "name": "python3",
      "display_name": "Python 3"
    },
    "language_info": {
      "name": "python"
    }
  },
  "cells": [
    {
      "cell_type": "markdown",
      "metadata": {
        "id": "view-in-github",
        "colab_type": "text"
      },
      "source": [
        "<a href=\"https://colab.research.google.com/github/Lakshman3556/Machine_Learning/blob/main/Week_8.ipynb\" target=\"_parent\"><img src=\"https://colab.research.google.com/assets/colab-badge.svg\" alt=\"Open In Colab\"/></a>"
      ]
    },
    {
      "cell_type": "code",
      "execution_count": null,
      "metadata": {
        "colab": {
          "base_uri": "https://localhost:8080/"
        },
        "id": "fuMMu4LCDR3X",
        "outputId": "b4bff3b9-cf5b-4d18-94a9-b0e5d7b111cd"
      },
      "outputs": [
        {
          "output_type": "stream",
          "name": "stdout",
          "text": [
            "MultiIndex([(            'mean radius',),\n",
            "            (           'mean texture',),\n",
            "            (         'mean perimeter',),\n",
            "            (              'mean area',),\n",
            "            (        'mean smoothness',),\n",
            "            (       'mean compactness',),\n",
            "            (         'mean concavity',),\n",
            "            (    'mean concave points',),\n",
            "            (          'mean symmetry',),\n",
            "            ( 'mean fractal dimension',),\n",
            "            (           'radius error',),\n",
            "            (          'texture error',),\n",
            "            (        'perimeter error',),\n",
            "            (             'area error',),\n",
            "            (       'smoothness error',),\n",
            "            (      'compactness error',),\n",
            "            (        'concavity error',),\n",
            "            (   'concave points error',),\n",
            "            (         'symmetry error',),\n",
            "            ('fractal dimension error',),\n",
            "            (           'worst radius',),\n",
            "            (          'worst texture',),\n",
            "            (        'worst perimeter',),\n",
            "            (             'worst area',),\n",
            "            (       'worst smoothness',),\n",
            "            (      'worst compactness',),\n",
            "            (        'worst concavity',),\n",
            "            (   'worst concave points',),\n",
            "            (         'worst symmetry',),\n",
            "            ('worst fractal dimension',),\n",
            "            (                 'target',)],\n",
            "           )\n"
          ]
        }
      ],
      "source": [
        "import pandas as pd\n",
        "import numpy as np\n",
        "from sklearn.model_selection import train_test_split\n",
        "from sklearn.tree import DecisionTreeClassifier\n",
        "from sklearn.ensemble import RandomForestClassifier\n",
        "from sklearn.metrics import accuracy_score, precision_score, recall_score, f1_score\n",
        "from sklearn.preprocessing import StandardScaler\n",
        "import matplotlib.pyplot as plt\n",
        "from sklearn.datasets import load_breast_cancer\n",
        "data=load_breast_cancer()\n",
        "df=pd.DataFrame(np.c_[data.data,data.target],columns=[list(data.feature_names)+['target']])\n",
        "df.head()\n",
        "df.shape\n",
        "# Print the column names to check for the correct column name\n",
        "print(df.columns)\n"
      ]
    },
    {
      "cell_type": "code",
      "source": [
        "# Strip any spaces from column names\n",
        "\n",
        "# Check the column names to verify\n",
        "print(\"Columns in the dataset:\", df.columns)\n",
        "\n",
        "# Drop the 'id' column if it exists\n",
        "if 'id' in df.columns:\n",
        "    df = df.drop(columns=['id'])\n",
        "\n",
        "# Continue with splitting features (X) and target (y)\n",
        "X = data.data # Features\n",
        "y = data.target  # Target\n"
      ],
      "metadata": {
        "colab": {
          "base_uri": "https://localhost:8080/"
        },
        "id": "z4GYUp5cEs5c",
        "outputId": "a88f74ed-61e7-4856-cd62-b177e080989e"
      },
      "execution_count": null,
      "outputs": [
        {
          "output_type": "stream",
          "name": "stdout",
          "text": [
            "Columns in the dataset: MultiIndex([(            'mean radius',),\n",
            "            (           'mean texture',),\n",
            "            (         'mean perimeter',),\n",
            "            (              'mean area',),\n",
            "            (        'mean smoothness',),\n",
            "            (       'mean compactness',),\n",
            "            (         'mean concavity',),\n",
            "            (    'mean concave points',),\n",
            "            (          'mean symmetry',),\n",
            "            ( 'mean fractal dimension',),\n",
            "            (           'radius error',),\n",
            "            (          'texture error',),\n",
            "            (        'perimeter error',),\n",
            "            (             'area error',),\n",
            "            (       'smoothness error',),\n",
            "            (      'compactness error',),\n",
            "            (        'concavity error',),\n",
            "            (   'concave points error',),\n",
            "            (         'symmetry error',),\n",
            "            ('fractal dimension error',),\n",
            "            (           'worst radius',),\n",
            "            (          'worst texture',),\n",
            "            (        'worst perimeter',),\n",
            "            (             'worst area',),\n",
            "            (       'worst smoothness',),\n",
            "            (      'worst compactness',),\n",
            "            (        'worst concavity',),\n",
            "            (   'worst concave points',),\n",
            "            (         'worst symmetry',),\n",
            "            ('worst fractal dimension',),\n",
            "            (                 'target',)],\n",
            "           )\n"
          ]
        }
      ]
    },
    {
      "cell_type": "code",
      "source": [
        "\n",
        "scaler = StandardScaler()\n",
        "X_scaled = scaler.fit_transform(X)\n",
        "X_train, X_test, y_train, y_test = train_test_split(X_scaled, y, test_size=0.2, random_state=42)\n"
      ],
      "metadata": {
        "id": "d7Sfi2gtFm29"
      },
      "execution_count": null,
      "outputs": []
    },
    {
      "cell_type": "code",
      "source": [
        "# Step 3: Scale the features (StandardScaler)\n",
        "scaler = StandardScaler()\n",
        "X_train_scaled = scaler.fit_transform(X_train)\n",
        "X_test_scaled = scaler.transform(X_test)\n",
        "\n",
        "# Step 4: Train a Decision Tree Classifier\n",
        "dt_classifier = DecisionTreeClassifier(random_state=42)\n",
        "dt_classifier.fit(X_train_scaled, y_train)\n",
        "y_pred_dt = dt_classifier.predict(X_test_scaled)\n",
        "\n",
        "# Step 5: Train a Random Forest Classifier\n",
        "rf_classifier = RandomForestClassifier(n_estimators=60, random_state=42)\n",
        "rf_classifier.fit(X_train_scaled, y_train)\n",
        "y_pred_rf = rf_classifier.predict(X_test_scaled)\n",
        "\n",
        "# Step 6: Evaluate both classifiers\n",
        "\n",
        "# Decision Tree metrics\n",
        "accuracy_dt = accuracy_score(y_test, y_pred_dt)\n",
        "precision_dt = precision_score(y_test, y_pred_dt)\n",
        "recall_dt = recall_score(y_test, y_pred_dt)\n",
        "f1_dt = f1_score(y_test, y_pred_dt)\n",
        "\n",
        "# Random Forest metrics\n",
        "accuracy_rf = accuracy_score(y_test, y_pred_rf)\n",
        "precision_rf = precision_score(y_test, y_pred_rf)\n",
        "recall_rf = recall_score(y_test, y_pred_rf)\n",
        "f1_rf = f1_score(y_test, y_pred_rf)\n",
        "\n",
        "# Print results\n",
        "print(\"Decision Tree Classifier Metrics:\")\n",
        "print(f\"Accuracy: {accuracy_dt:.4f}\")\n",
        "print(f\"Precision: {precision_dt:.4f}\")\n",
        "print(f\"Recall: {recall_dt:.4f}\")\n",
        "print(f\"F1 Score: {f1_dt:.4f}\\n\")\n",
        "\n",
        "print(\"Random Forest Classifier Metrics:\")\n",
        "print(f\"Accuracy: {accuracy_rf:.4f}\")\n",
        "print(f\"Precision: {precision_rf:.4f}\")\n",
        "print(f\"Recall: {recall_rf:.4f}\")\n",
        "print(f\"F1 Score: {f1_rf:.4f}\\n\")\n",
        "\n"
      ],
      "metadata": {
        "colab": {
          "base_uri": "https://localhost:8080/"
        },
        "id": "0P4DK1lVGZxV",
        "outputId": "4b79e5d9-010c-4ace-e4c3-26cd9ed267ee"
      },
      "execution_count": null,
      "outputs": [
        {
          "output_type": "stream",
          "name": "stdout",
          "text": [
            "Decision Tree Classifier Metrics:\n",
            "Accuracy: 0.9474\n",
            "Precision: 0.9577\n",
            "Recall: 0.9577\n",
            "F1 Score: 0.9577\n",
            "\n",
            "Random Forest Classifier Metrics:\n",
            "Accuracy: 0.9649\n",
            "Precision: 0.9589\n",
            "Recall: 0.9859\n",
            "F1 Score: 0.9722\n",
            "\n"
          ]
        }
      ]
    },
    {
      "cell_type": "code",
      "source": [
        "# Step 10: Explore the effect of changing the number of estimators in Random Forest\n",
        "estimators_range = [1,2,3,4,5,6,7,8,9,10]\n",
        "accuracies_rf = []\n",
        "\n",
        "for n_estimators in estimators_range:\n",
        "    rf_classifier = RandomForestClassifier(n_estimators=n_estimators, random_state=42)\n",
        "    rf_classifier.fit(X_train, y_train)\n",
        "    y_pred_rf = rf_classifier.predict(X_test)\n",
        "    accuracy = accuracy_score(y_test, y_pred_rf)\n",
        "    accuracies_rf.append(accuracy)\n",
        "\n",
        "# Plot the effect of number of estimators on Random Forest accuracy\n",
        "plt.plot(estimators_range, accuracies_rf, marker='o', color='b')\n",
        "plt.title(\"Effect of Number of Estimators on Random Forest Accuracy\")\n",
        "plt.xlabel(\"Number of Estimators (Trees)\")\n",
        "plt.ylabel(\"Accuracy\")\n",
        "plt.grid(True)\n",
        "plt.show()\n"
      ],
      "metadata": {
        "colab": {
          "base_uri": "https://localhost:8080/",
          "height": 472
        },
        "id": "IFnlQuYxGlfA",
        "outputId": "39c4c762-893f-4c2c-e1aa-5fca8766efd9"
      },
      "execution_count": null,
      "outputs": [
        {
          "output_type": "display_data",
          "data": {
            "text/plain": [
              "<Figure size 640x480 with 1 Axes>"
            ],
            "image/png": "[encoded data removed]"
          },
          "metadata": {}
        }
      ]
    },
    {
      "cell_type": "code",
      "source": [
        "import pandas as pd\n",
        "from sklearn.model_selection import train_test_split\n",
        "from sklearn.tree import DecisionTreeClassifier\n",
        "from sklearn.ensemble import RandomForestClassifier\n",
        "from sklearn.linear_model import LogisticRegression\n",
        "from sklearn.metrics import accuracy_score\n",
        "import numpy as np\n",
        "from sklearn.datasets import load_breast_cancer\n",
        "\n",
        "# Load the dataset\n",
        "data = load_breast_cancer()\n",
        "X = pd.DataFrame(data.data, columns=data.feature_names)\n",
        "y = pd.Series(data.target)\n",
        "\n",
        "# Split into training and testing sets\n",
        "X_train, X_test, y_train, y_test = train_test_split(X, y, test_size=0.2, random_state=42)\n"
      ],
      "metadata": {
        "id": "ikqOi389GleM"
      },
      "execution_count": null,
      "outputs": []
    },
    {
      "cell_type": "code",
      "source": [
        "# Initialize the models\n",
        "dt_model = DecisionTreeClassifier(random_state=42)\n",
        "rf_model = RandomForestClassifier(n_estimators=100, random_state=42)\n",
        "logreg_model = LogisticRegression(max_iter=1000, random_state=42)\n",
        "\n",
        "# Train the models\n",
        "dt_model.fit(X_train, y_train)\n",
        "rf_model.fit(X_train, y_train)\n",
        "logreg_model.fit(X_train, y_train)\n",
        "\n",
        "# Make predictions\n",
        "y_pred_dt = dt_model.predict(X_test)\n",
        "y_pred_rf = rf_model.predict(X_test)\n",
        "y_pred_logreg = logreg_model.predict(X_test)\n"
      ],
      "metadata": {
        "colab": {
          "base_uri": "https://localhost:8080/"
        },
        "id": "mhGkhDbiVfW4",
        "outputId": "5afda299-6666-4d13-fe4e-6ea01b2c00f5"
      },
      "execution_count": null,
      "outputs": [
        {
          "output_type": "stream",
          "name": "stderr",
          "text": [
            "/usr/local/lib/python3.12/dist-packages/sklearn/linear_model/_logistic.py:465: ConvergenceWarning: lbfgs failed to converge (status=1):\n",
            "STOP: TOTAL NO. OF ITERATIONS REACHED LIMIT.\n",
            "\n",
            "Increase the number of iterations (max_iter) or scale the data as shown in:\n",
            "    https://scikit-learn.org/stable/modules/preprocessing.html\n",
            "Please also refer to the documentation for alternative solver options:\n",
            "    https://scikit-learn.org/stable/modules/linear_model.html#logistic-regression\n",
            "  n_iter_i = _check_optimize_result(\n"
          ]
        }
      ]
    },
    {
      "cell_type": "code",
      "source": [
        "# Stack the predictions\n",
        "predictions = np.array([y_pred_dt, y_pred_rf, y_pred_logreg])\n",
        "\n",
        "# Max Voting: Choose the most frequent prediction (majority vote)\n",
        "y_pred_max_voting = [np.bincount(predictions[:, i]).argmax() for i in range(predictions.shape[1])]\n",
        "y_pred_max_voting = np.array(y_pred_max_voting)\n",
        "\n",
        "# Evaluate the performance\n",
        "accuracy_max_voting = accuracy_score(y_test, y_pred_max_voting)\n",
        "print(f\"Max Voting Accuracy: {accuracy_max_voting:.4f}\")\n"
      ],
      "metadata": {
        "colab": {
          "base_uri": "https://localhost:8080/"
        },
        "id": "ssFAxggIVsOW",
        "outputId": "1acda347-4eb3-4b13-db92-b54aa0bc3c4e"
      },
      "execution_count": null,
      "outputs": [
        {
          "output_type": "stream",
          "name": "stdout",
          "text": [
            "Max Voting Accuracy: 0.9649\n"
          ]
        }
      ]
    },
    {
      "cell_type": "code",
      "source": [
        "# Get probabilities (using .predict_proba() for Random Forest and Logistic Regression)\n",
        "y_pred_prob_rf = rf_model.predict_proba(X_test)[:, 1]  # Probability for class 1\n",
        "y_pred_prob_logreg = logreg_model.predict_proba(X_test)[:, 1]  # Probability for class 1\n",
        "y_pred_prob_dt = dt_model.predict_proba(X_test)[:, 1]  # Probability for class 1\n",
        "\n",
        "# Average Voting: Average the probabilities\n",
        "y_pred_prob_avg_voting = (y_pred_prob_rf + y_pred_prob_logreg + y_pred_prob_dt) / 3\n",
        "\n",
        "# Predict based on average probabilities\n",
        "y_pred_avg_voting = (y_pred_prob_avg_voting > 0.5).astype(int)\n",
        "\n",
        "# Evaluate the performance\n",
        "accuracy_avg_voting = accuracy_score(y_test, y_pred_avg_voting)\n",
        "print(f\"Average Voting Accuracy: {accuracy_avg_voting:.4f}\")\n"
      ],
      "metadata": {
        "colab": {
          "base_uri": "https://localhost:8080/"
        },
        "id": "0JCw0RehV0QO",
        "outputId": "34bd2ca0-2d77-477f-97d8-f8ee7356fa53"
      },
      "execution_count": null,
      "outputs": [
        {
          "output_type": "stream",
          "name": "stdout",
          "text": [
            "Average Voting Accuracy: 0.9649\n"
          ]
        }
      ]
    },
    {
      "cell_type": "code",
      "source": [
        "# Calculate individual model accuracies (to be used as weights)\n",
        "accuracy_dt = accuracy_score(y_test, y_pred_dt)\n",
        "accuracy_rf = accuracy_score(y_test, y_pred_rf)\n",
        "accuracy_logreg = accuracy_score(y_test, y_pred_logreg)\n",
        "\n",
        "# Calculate total accuracy\n",
        "total_accuracy = accuracy_dt + accuracy_rf + accuracy_logreg\n",
        "\n",
        "# Assign weights\n",
        "weight_dt = accuracy_dt / total_accuracy\n",
        "weight_rf = accuracy_rf / total_accuracy\n",
        "weight_logreg = accuracy_logreg / total_accuracy\n",
        "\n",
        "# Weighted Average Voting: Use weights to average probabilities\n",
        "y_pred_prob_weighted_voting = (weight_rf * y_pred_prob_rf + weight_logreg * y_pred_prob_logreg + weight_dt * y_pred_prob_dt)\n",
        "\n",
        "# Predict based on weighted average probabilities\n",
        "y_pred_weighted_voting = (y_pred_prob_weighted_voting > 0.5).astype(int)\n",
        "\n",
        "# Evaluate the performance\n",
        "accuracy_weighted_voting = accuracy_score(y_test, y_pred_weighted_voting)\n",
        "print(f\"Weighted Average Voting Accuracy: {accuracy_weighted_voting:.4f}\")\n"
      ],
      "metadata": {
        "id": "NbMGgtvMWISm",
        "outputId": "63b5bf78-a7d5-4cdf-ea7c-fa123bc3ce66",
        "colab": {
          "base_uri": "https://localhost:8080/"
        }
      },
      "execution_count": null,
      "outputs": [
        {
          "output_type": "stream",
          "name": "stdout",
          "text": [
            "Weighted Average Voting Accuracy: 0.9649\n"
          ]
        }
      ]
    },
    {
      "cell_type": "code",
      "source": [
        "# Print results\n",
        "print(\"\\nComparison of ensemble techniques:\")\n",
        "print(f\"Decision Tree Accuracy: {accuracy_dt:.4f}\")\n",
        "print(f\"Random Forest Accuracy: {accuracy_rf:.4f}\")\n",
        "print(f\"Logistic Regression Accuracy: {accuracy_logreg:.4f}\")\n",
        "print(f\"Max Voting Accuracy: {accuracy_max_voting:.4f}\")\n",
        "print(f\"Average Voting Accuracy: {accuracy_avg_voting:.4f}\")\n",
        "print(f\"Weighted Average Voting Accuracy: {accuracy_weighted_voting:.4f}\")\n"
      ],
      "metadata": {
        "id": "UMQHBZ6AWKxv",
        "outputId": "0597054c-afb5-4604-9137-ac0f2653a2b5",
        "colab": {
          "base_uri": "https://localhost:8080/"
        }
      },
      "execution_count": null,
      "outputs": [
        {
          "output_type": "stream",
          "name": "stdout",
          "text": [
            "\n",
            "Comparison of ensemble techniques:\n",
            "Decision Tree Accuracy: 0.9474\n",
            "Random Forest Accuracy: 0.9649\n",
            "Logistic Regression Accuracy: 0.9561\n",
            "Max Voting Accuracy: 0.9649\n",
            "Average Voting Accuracy: 0.9649\n",
            "Weighted Average Voting Accuracy: 0.9649\n"
          ]
        }
      ]
    }
  ]
}