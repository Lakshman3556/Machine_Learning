{
  "nbformat": 4,
  "nbformat_minor": 0,
  "metadata": {
    "colab": {
      "provenance": [],
      "gpuType": "T4",
      "mount_file_id": "1StfctlmvXS68YrcfMKuPW_wo20Ptu8Hy",
      "authorship_tag": "ABX9TyNgvIRtcOOnlD1OY28PDhOb",
      "include_colab_link": true
    },
    "kernelspec": {
      "name": "python3",
      "display_name": "Python 3"
    },
    "language_info": {
      "name": "python"
    },
    "accelerator": "GPU"
  },
  "cells": [
    {
      "cell_type": "markdown",
      "metadata": {
        "id": "view-in-github",
        "colab_type": "text"
      },
      "source": [
        "<a href=\"https://colab.research.google.com/github/Lakshman3556/Machine_Learning/blob/main/ML__week4.ipynb\" target=\"_parent\"><img src=\"https://colab.research.google.com/assets/colab-badge.svg\" alt=\"Open In Colab\"/></a>"
      ]
    },
    {
      "cell_type": "code",
      "execution_count": 3,
      "metadata": {
        "colab": {
          "base_uri": "https://localhost:8080/"
        },
        "id": "9eObrw_bp4T1",
        "outputId": "e299d9b3-7206-4c2f-9e5e-a2b65c3aa324"
      },
      "outputs": [
        {
          "output_type": "stream",
          "name": "stdout",
          "text": [
            "   PassengerId  Survived  Pclass  \\\n",
            "0            1         0       3   \n",
            "1            2         1       1   \n",
            "2            3         1       3   \n",
            "3            4         1       1   \n",
            "4            5         0       3   \n",
            "\n",
            "                                                Name     Sex   Age  SibSp  \\\n",
            "0                            Braund, Mr. Owen Harris    male  22.0      1   \n",
            "1  Cumings, Mrs. John Bradley (Florence Briggs Th...  female  38.0      1   \n",
            "2                             Heikkinen, Miss. Laina  female  26.0      0   \n",
            "3       Futrelle, Mrs. Jacques Heath (Lily May Peel)  female  35.0      1   \n",
            "4                           Allen, Mr. William Henry    male  35.0      0   \n",
            "\n",
            "   Parch            Ticket     Fare Cabin Embarked  \n",
            "0      0         A/5 21171   7.2500   NaN        S  \n",
            "1      0          PC 17599  71.2833   C85        C  \n",
            "2      0  STON/O2. 3101282   7.9250   NaN        S  \n",
            "3      0            113803  53.1000  C123        S  \n",
            "4      0            373450   8.0500   NaN        S  \n"
          ]
        },
        {
          "output_type": "execute_result",
          "data": {
            "text/plain": [
              "(891, 12)"
            ]
          },
          "metadata": {},
          "execution_count": 3
        }
      ],
      "source": [
        "import pandas as pd\n",
        "import numpy as np\n",
        "import matplotlib.pyplot as plt\n",
        "import seaborn as sns\n",
        "\n",
        "df=pd.read_csv('/content/drive/MyDrive/ML/titanic_train.csv')\n",
        "print(df.head())\n",
        "df.shape"
      ]
    },
    {
      "cell_type": "code",
      "source": [
        "import pandas as pd\n",
        "import numpy as np\n",
        "from sklearn.model_selection import train_test_split\n",
        "from sklearn.preprocessing import LabelEncoder\n",
        "\n",
        "# Load dataset\n",
        "df = pd.read_csv('/content/drive/MyDrive/ML/titanic_train.csv')\n",
        "\n",
        "# Drop columns that are not useful for modeling\n",
        "df = df.drop(['PassengerId', 'Name', 'Ticket', 'Cabin'], axis=1)\n",
        "\n",
        "# Handle missing values\n",
        "df['Age'] = df['Age'].fillna(df['Age'].median())\n",
        "df['Embarked'] = df['Embarked'].fillna(df['Embarked'].mode()[0])\n",
        "\n",
        "# Encode categorical variables\n",
        "label_enc = LabelEncoder()\n",
        "df['Sex'] = label_enc.fit_transform(df['Sex'])        # male=1, female=0\n",
        "df['Embarked'] = label_enc.fit_transform(df['Embarked'])  # C=0, Q=1, S=2\n",
        "\n",
        "# Features and target\n",
        "X = df.drop('Survived', axis=1)\n",
        "y = df['Survived']\n",
        "\n",
        "# Train-test split\n",
        "X_train, X_test, y_train, y_test = train_test_split(\n",
        "    X, y, test_size=0.3, random_state=0\n",
        ")\n"
      ],
      "metadata": {
        "id": "ThERmRYfrqvp"
      },
      "execution_count": 9,
      "outputs": []
    },
    {
      "cell_type": "code",
      "source": [
        "from sklearn.ensemble import RandomForestRegressor, RandomForestClassifier\n",
        "from sklearn.metrics import roc_auc_score\n",
        "\n",
        "from mlxtend.feature_selection import SequentialFeatureSelector as SFS\n",
        "\n",
        "X_train, X_test, y_train, y_test = train_test_split(\n",
        "    df.drop(labels=['Survived'], axis=1),\n",
        "    df['Survived'],\n",
        "    test_size=0.3,\n",
        "    random_state=0)\n",
        "def correlation(dataset, threshold):\n",
        "    col_corr = set()  # Set of all the names of correlated columns\n",
        "    corr_matrix = dataset.corr()\n",
        "    for i in range(len(corr_matrix.columns)):\n",
        "        for j in range(i):\n",
        "            if abs(corr_matrix.iloc[i, j]) > threshold: # we are interested in absolute coeff value\n",
        "                colname = corr_matrix.columns[i]  # getting the name of column\n",
        "                col_corr.add(colname)\n",
        "    return col_corr\n",
        "corr_features = correlation(X_train, 0.8)\n",
        "print('correlated features: ', len(set(corr_features)) )\n",
        "\n",
        "\n",
        "\n"
      ],
      "metadata": {
        "colab": {
          "base_uri": "https://localhost:8080/"
        },
        "id": "kXgx2ADvwWmd",
        "outputId": "c2992929-9a45-44cb-a6ef-a4966a147fc4"
      },
      "execution_count": 21,
      "outputs": [
        {
          "output_type": "stream",
          "name": "stdout",
          "text": [
            "correlated features:  0\n"
          ]
        }
      ]
    },
    {
      "cell_type": "code",
      "source": [
        "X_train.drop(labels=corr_features, axis=1, inplace=True)\n",
        "X_test.drop(labels=corr_features, axis=1, inplace=True)\n",
        "X_train.shape, X_test.shape"
      ],
      "metadata": {
        "colab": {
          "base_uri": "https://localhost:8080/"
        },
        "id": "imY4bW1nxUUL",
        "outputId": "429ec0dc-007e-49c1-af11-0ebf0939c820"
      },
      "execution_count": 22,
      "outputs": [
        {
          "output_type": "execute_result",
          "data": {
            "text/plain": [
              "((623, 7), (268, 7))"
            ]
          },
          "metadata": {},
          "execution_count": 22
        }
      ]
    },
    {
      "cell_type": "code",
      "source": [
        "sfs1 = SFS(RandomForestClassifier(n_jobs=4),   #  4 CPU cores in parallel (faster computation)\n",
        "           k_features=6,   #select the best 5 features\n",
        "           forward=True,  #adds one feature at a time , False for SBS\n",
        "           #floating=False,   (True:  after each addition, it checks whether any previously added feature can be removed to \t\t\t   improve the model score)\n",
        "           verbose=2,  #progress printed in the console.\n",
        "           scoring='r2',\n",
        "           cv=3)\n",
        "sfs1 = sfs1.fit(np.array(X_train.fillna(0)), y_train)\n",
        "\n",
        "# Print the results\n",
        "print('Best accuracy score: %.2f' % sfs1.k_score_)   # k_score_ shows the best score\n",
        "print('Best subset (indices):', sfs1.k_feature_idx_) # k_feature_idx_ shows the index of features\n",
        "                                                    # that yield the best score\n",
        "print('Best subset (corresponding names):', sfs1.k_feature_names_) # k_feature_names_ shows the feature names\n"
      ],
      "metadata": {
        "colab": {
          "base_uri": "https://localhost:8080/"
        },
        "id": "ZD-jrZMxxZhj",
        "outputId": "0988d6cb-3c2c-4efa-c2dc-d67ec852b743"
      },
      "execution_count": 24,
      "outputs": [
        {
          "output_type": "stream",
          "name": "stderr",
          "text": [
            "[Parallel(n_jobs=1)]: Done   7 out of   7 | elapsed:    4.4s finished\n",
            "\n",
            "[2025-08-13 09:33:05] Features: 1/6 -- score: 0.10169024010887551[Parallel(n_jobs=1)]: Done   6 out of   6 | elapsed:    4.2s finished\n",
            "\n",
            "[2025-08-13 09:33:09] Features: 2/6 -- score: 0.12880415411036608[Parallel(n_jobs=1)]: Done   5 out of   5 | elapsed:    3.3s finished\n",
            "\n",
            "[2025-08-13 09:33:12] Features: 3/6 -- score: 0.1423868312757204[Parallel(n_jobs=1)]: Done   4 out of   4 | elapsed:    2.5s finished\n",
            "\n",
            "[2025-08-13 09:33:15] Features: 4/6 -- score: 0.1215498525647259[Parallel(n_jobs=1)]: Done   3 out of   3 | elapsed:    1.9s finished\n",
            "\n",
            "[2025-08-13 09:33:17] Features: 5/6 -- score: 0.20273727358154325"
          ]
        },
        {
          "output_type": "stream",
          "name": "stdout",
          "text": [
            "Best accuracy score: 0.17\n",
            "Best subset (indices): (0, 1, 2, 3, 4, 6)\n",
            "Best subset (corresponding names): ('0', '1', '2', '3', '4', '6')\n"
          ]
        },
        {
          "output_type": "stream",
          "name": "stderr",
          "text": [
            "[Parallel(n_jobs=1)]: Done   2 out of   2 | elapsed:    1.4s finished\n",
            "\n",
            "[2025-08-13 09:33:18] Features: 6/6 -- score: 0.16883202099737551"
          ]
        }
      ]
    },
    {
      "cell_type": "code",
      "source": [],
      "metadata": {
        "id": "BhvzfqLMyckr"
      },
      "execution_count": null,
      "outputs": []
    }
  ]
}