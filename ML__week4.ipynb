{
  "nbformat": 4,
  "nbformat_minor": 0,
  "metadata": {
    "colab": {
      "provenance": [],
      "gpuType": "T4",
      "mount_file_id": "1StfctlmvXS68YrcfMKuPW_wo20Ptu8Hy",
      "authorship_tag": "ABX9TyM5BqZYCL2bohcQra5W5kBa",
      "include_colab_link": true
    },
    "kernelspec": {
      "name": "python3",
      "display_name": "Python 3"
    },
    "language_info": {
      "name": "python"
    },
    "accelerator": "GPU"
  },
  "cells": [
    {
      "cell_type": "markdown",
      "metadata": {
        "id": "view-in-github",
        "colab_type": "text"
      },
      "source": [
        "<a href=\"https://colab.research.google.com/github/Lakshman3556/Machine_Learning/blob/main/ML__week4.ipynb\" target=\"_parent\"><img src=\"https://colab.research.google.com/assets/colab-badge.svg\" alt=\"Open In Colab\"/></a>"
      ]
    },
    {
      "cell_type": "code",
      "execution_count": 1,
      "metadata": {
        "colab": {
          "base_uri": "https://localhost:8080/"
        },
        "id": "9eObrw_bp4T1",
        "outputId": "02e8a667-6786-4527-e925-b8a43d4ecafb"
      },
      "outputs": [
        {
          "output_type": "stream",
          "name": "stdout",
          "text": [
            "   PassengerId  Survived  Pclass  \\\n",
            "0            1         0       3   \n",
            "1            2         1       1   \n",
            "2            3         1       3   \n",
            "3            4         1       1   \n",
            "4            5         0       3   \n",
            "\n",
            "                                                Name     Sex   Age  SibSp  \\\n",
            "0                            Braund, Mr. Owen Harris    male  22.0      1   \n",
            "1  Cumings, Mrs. John Bradley (Florence Briggs Th...  female  38.0      1   \n",
            "2                             Heikkinen, Miss. Laina  female  26.0      0   \n",
            "3       Futrelle, Mrs. Jacques Heath (Lily May Peel)  female  35.0      1   \n",
            "4                           Allen, Mr. William Henry    male  35.0      0   \n",
            "\n",
            "   Parch            Ticket     Fare Cabin Embarked  \n",
            "0      0         A/5 21171   7.2500   NaN        S  \n",
            "1      0          PC 17599  71.2833   C85        C  \n",
            "2      0  STON/O2. 3101282   7.9250   NaN        S  \n",
            "3      0            113803  53.1000  C123        S  \n",
            "4      0            373450   8.0500   NaN        S  \n"
          ]
        },
        {
          "output_type": "execute_result",
          "data": {
            "text/plain": [
              "(891, 12)"
            ]
          },
          "metadata": {},
          "execution_count": 1
        }
      ],
      "source": [
        "import pandas as pd\n",
        "import numpy as np\n",
        "import matplotlib.pyplot as plt\n",
        "import seaborn as sns\n",
        "\n",
        "df=pd.read_csv('/content/drive/MyDrive/ML/titanic_train.csv')\n",
        "print(df.head())\n",
        "df.shape"
      ]
    },
    {
      "cell_type": "code",
      "source": [
        "import pandas as pd\n",
        "import numpy as np\n",
        "from sklearn.model_selection import train_test_split\n",
        "from sklearn.preprocessing import LabelEncoder\n",
        "\n",
        "# Load dataset\n",
        "df = pd.read_csv('/content/drive/MyDrive/ML/titanic_train.csv')\n",
        "\n",
        "# Drop columns that are not useful for modeling\n",
        "df = df.drop(['PassengerId', 'Name', 'Ticket', 'Cabin'], axis=1)\n",
        "\n",
        "# Handle missing values\n",
        "df['Age'] = df['Age'].fillna(df['Age'].median())\n",
        "df['Embarked'] = df['Embarked'].fillna(df['Embarked'].mode()[0])\n",
        "\n",
        "# Encode categorical variables\n",
        "label_enc = LabelEncoder()\n",
        "df['Sex'] = label_enc.fit_transform(df['Sex'])        # male=1, female=0\n",
        "df['Embarked'] = label_enc.fit_transform(df['Embarked'])  # C=0, Q=1, S=2\n",
        "\n",
        "# Features and target\n",
        "X = df.drop('Survived', axis=1)\n",
        "y = df['Survived']\n",
        "\n",
        "# Train-test split\n",
        "X_train, X_test, y_train, y_test = train_test_split(\n",
        "    X, y, test_size=0.3, random_state=0\n",
        ")\n"
      ],
      "metadata": {
        "id": "ThERmRYfrqvp"
      },
      "execution_count": 2,
      "outputs": []
    },
    {
      "cell_type": "code",
      "source": [
        "from sklearn.ensemble import RandomForestRegressor, RandomForestClassifier\n",
        "from sklearn.metrics import roc_auc_score\n",
        "\n",
        "from mlxtend.feature_selection import SequentialFeatureSelector as SFS\n",
        "\n",
        "X_train, X_test, y_train, y_test = train_test_split(\n",
        "    df.drop(labels=['Survived'], axis=1),\n",
        "    df['Survived'],\n",
        "    test_size=0.3,\n",
        "    random_state=0)\n",
        "def correlation(dataset, threshold):\n",
        "    col_corr = set()  # Set of all the names of correlated columns\n",
        "    corr_matrix = dataset.corr()\n",
        "    for i in range(len(corr_matrix.columns)):\n",
        "        for j in range(i):\n",
        "            if abs(corr_matrix.iloc[i, j]) > threshold: # we are interested in absolute coeff value\n",
        "                colname = corr_matrix.columns[i]  # getting the name of column\n",
        "                col_corr.add(colname)\n",
        "    return col_corr\n",
        "corr_features = correlation(X_train, 0.8)\n",
        "print('correlated features: ', len(set(corr_features)) )\n",
        "\n",
        "\n",
        "\n"
      ],
      "metadata": {
        "colab": {
          "base_uri": "https://localhost:8080/"
        },
        "id": "kXgx2ADvwWmd",
        "outputId": "27011ae9-e7b9-48ae-c7b8-ff2a5125031e"
      },
      "execution_count": 3,
      "outputs": [
        {
          "output_type": "stream",
          "name": "stdout",
          "text": [
            "correlated features:  0\n"
          ]
        }
      ]
    },
    {
      "cell_type": "code",
      "source": [
        "X_train.drop(labels=corr_features, axis=1, inplace=True)\n",
        "X_test.drop(labels=corr_features, axis=1, inplace=True)\n",
        "X_train.shape, X_test.shape"
      ],
      "metadata": {
        "colab": {
          "base_uri": "https://localhost:8080/"
        },
        "id": "imY4bW1nxUUL",
        "outputId": "470bac26-ff6d-4315-cb1d-84a19248c31b"
      },
      "execution_count": 4,
      "outputs": [
        {
          "output_type": "execute_result",
          "data": {
            "text/plain": [
              "((623, 7), (268, 7))"
            ]
          },
          "metadata": {},
          "execution_count": 4
        }
      ]
    },
    {
      "cell_type": "code",
      "source": [
        "sfs1 = SFS(RandomForestClassifier(n_jobs=4),   #  4 CPU cores in parallel (faster computation)\n",
        "           k_features=4,   #select the best 5 features\n",
        "           forward=True,  #adds one feature at a time , False for SBS\n",
        "           #floating=False,   (True:  after each addition, it checks whether any previously added feature can be removed to \t\t\t   improve the model score)\n",
        "           verbose=2,  #progress printed in the console.\n",
        "           scoring='r2',\n",
        "           cv=3)\n",
        "sfs1 = sfs1.fit(np.array(X_train.fillna(0)), y_train)\n",
        "\n",
        "# Print the results\n",
        "print('Best accuracy score: %.2f' % sfs1.k_score_)   # k_score_ shows the best score\n",
        "print('Best subset (indices):', sfs1.k_feature_idx_) # k_feature_idx_ shows the index of features\n",
        "                                                    # that yield the best score\n",
        "print('Best subset (corresponding names):', sfs1.k_feature_names_) # k_feature_names_ shows the feature names\n"
      ],
      "metadata": {
        "colab": {
          "base_uri": "https://localhost:8080/"
        },
        "id": "ZD-jrZMxxZhj",
        "outputId": "6f20dd06-2590-48c4-8ff5-9b640cb101d5"
      },
      "execution_count": 5,
      "outputs": [
        {
          "output_type": "stream",
          "name": "stderr",
          "text": [
            "[Parallel(n_jobs=1)]: Done   7 out of   7 | elapsed:    4.8s finished\n",
            "\n",
            "[2025-08-20 08:48:42] Features: 1/4 -- score: 0.10169024010887551[Parallel(n_jobs=1)]: Done   6 out of   6 | elapsed:    3.8s finished\n",
            "\n",
            "[2025-08-20 08:48:46] Features: 2/4 -- score: 0.12880415411036608[Parallel(n_jobs=1)]: Done   5 out of   5 | elapsed:    3.3s finished\n",
            "\n",
            "[2025-08-20 08:48:49] Features: 3/4 -- score: 0.14218106995884794"
          ]
        },
        {
          "output_type": "stream",
          "name": "stdout",
          "text": [
            "Best accuracy score: 0.18\n",
            "Best subset (indices): (0, 1, 3, 6)\n",
            "Best subset (corresponding names): ('0', '1', '3', '6')\n"
          ]
        },
        {
          "output_type": "stream",
          "name": "stderr",
          "text": [
            "[Parallel(n_jobs=1)]: Done   4 out of   4 | elapsed:    3.3s finished\n",
            "\n",
            "[2025-08-20 08:48:53] Features: 4/4 -- score: 0.18246613849194795"
          ]
        }
      ]
    },
    {
      "cell_type": "code",
      "source": [
        "selected_features = X_train.columns[list(sfs1.k_feature_idx_)]\n",
        "print(\"Selected features:\", selected_features)"
      ],
      "metadata": {
        "id": "BhvzfqLMyckr",
        "colab": {
          "base_uri": "https://localhost:8080/"
        },
        "outputId": "2b9a761b-5d11-4067-cbe9-77ac0fde1c97"
      },
      "execution_count": 6,
      "outputs": [
        {
          "output_type": "stream",
          "name": "stdout",
          "text": [
            "Selected features: Index(['Pclass', 'Sex', 'SibSp', 'Embarked'], dtype='object')\n"
          ]
        }
      ]
    },
    {
      "cell_type": "code",
      "source": [
        "from sklearn.ensemble import RandomForestClassifier\n",
        "from mlxtend.feature_selection import SequentialFeatureSelector as SFS\n",
        "import numpy as np\n",
        "\n",
        "# Backward Elimination\n",
        "sbs = SFS(RandomForestClassifier(n_jobs=4, random_state=0),\n",
        "          k_features=4,           # stop when 4 features remain\n",
        "          forward=False,          # backward elimination\n",
        "          floating=False,         # pure SBS (no floating)\n",
        "          verbose=2,              # print progress\n",
        "          scoring='accuracy',     # use accuracy (better for classification than r2)\n",
        "          cv=3)                   # 3-fold cross-validation\n",
        "\n",
        "sbs = sbs.fit(np.array(X_train.fillna(0)), y_train)\n",
        "\n",
        "# Print the results\n",
        "print('Best CV score: %.2f' % sbs.k_score_)\n",
        "print('Best subset (indices):', sbs.k_feature_idx_)\n",
        "print('Best subset (corresponding names):', sbs.k_feature_names_)\n",
        "\n",
        "# Get the actual selected feature names\n",
        "selected_features = X_train.columns[list(sbs.k_feature_idx_)]\n",
        "print(\"Selected features:\", selected_features)\n"
      ],
      "metadata": {
        "colab": {
          "base_uri": "https://localhost:8080/"
        },
        "id": "0eJdCDJgsLwQ",
        "outputId": "cae190aa-fdd7-448e-b1c4-0d3210d519c4"
      },
      "execution_count": 7,
      "outputs": [
        {
          "output_type": "stream",
          "name": "stderr",
          "text": [
            "[Parallel(n_jobs=1)]: Done   7 out of   7 | elapsed:    4.6s finished\n",
            "\n",
            "[2025-08-20 08:55:34] Features: 6/4 -- score: 0.8074058590362938[Parallel(n_jobs=1)]: Done   6 out of   6 | elapsed:    4.3s finished\n",
            "\n",
            "[2025-08-20 08:55:38] Features: 5/4 -- score: 0.8186315496098104"
          ]
        },
        {
          "output_type": "stream",
          "name": "stdout",
          "text": [
            "Best CV score: 0.81\n",
            "Best subset (indices): (0, 1, 2, 6)\n",
            "Best subset (corresponding names): ('0', '1', '2', '6')\n",
            "Selected features: Index(['Pclass', 'Sex', 'Age', 'Embarked'], dtype='object')\n"
          ]
        },
        {
          "output_type": "stream",
          "name": "stderr",
          "text": [
            "[Parallel(n_jobs=1)]: Done   5 out of   5 | elapsed:    3.7s finished\n",
            "\n",
            "[2025-08-20 08:55:41] Features: 4/4 -- score: 0.8057955530781618"
          ]
        }
      ]
    }
  ]
}